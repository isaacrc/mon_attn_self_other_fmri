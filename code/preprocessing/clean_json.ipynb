{
 "cells": [
  {
   "cell_type": "code",
   "execution_count": 4,
   "id": "golden-finland",
   "metadata": {},
   "outputs": [],
   "source": [
    "file = \"/jukebox/graziano/coolCatIsaac/ATM/data/bids/sub-000/ses-01/func/sub-000_ses-01_task-Attn_run-01_bold.json\""
   ]
  },
  {
   "cell_type": "code",
   "execution_count": 4,
   "id": "framed-architect",
   "metadata": {},
   "outputs": [],
   "source": [
    "directory_in_str = \"/jukebox/graziano/coolCatIsaac/ATM/data/bids/sub-000/ses-01/func/\""
   ]
  },
  {
   "cell_type": "code",
   "execution_count": 2,
   "id": "interior-chester",
   "metadata": {},
   "outputs": [],
   "source": [
    "import os, sys, stat"
   ]
  },
  {
   "cell_type": "code",
   "execution_count": 10,
   "id": "impressed-stack",
   "metadata": {},
   "outputs": [
    {
     "name": "stdout",
     "output_type": "stream",
     "text": [
      "/jukebox/graziano/coolCatIsaac/ATM/data/bids/sub-000/ses-01/func/sub-000_ses-01_task-Attn_run-05_bold.json\n",
      "/jukebox/graziano/coolCatIsaac/ATM/data/bids/sub-000/ses-01/func/sub-000_ses-01_task-Attn_run-02_bold.json\n",
      "/jukebox/graziano/coolCatIsaac/ATM/data/bids/sub-000/ses-01/func/sub-000_ses-01_task-Attn_run-09_bold.json\n",
      "/jukebox/graziano/coolCatIsaac/ATM/data/bids/sub-000/ses-01/func/sub-000_ses-01_task-Attn_run-07_bold.json\n",
      "/jukebox/graziano/coolCatIsaac/ATM/data/bids/sub-000/ses-01/func/sub-000_ses-01_task-Attn_run-01_bold.json\n",
      "/jukebox/graziano/coolCatIsaac/ATM/data/bids/sub-000/ses-01/func/sub-000_ses-01_task-Attn_run-10_bold.json\n",
      "/jukebox/graziano/coolCatIsaac/ATM/data/bids/sub-000/ses-01/func/sub-000_ses-01_task-Attn_run-06_bold.json\n",
      "/jukebox/graziano/coolCatIsaac/ATM/data/bids/sub-000/ses-01/func/sub-000_ses-01_task-Attn_run-04_bold.json\n",
      "/jukebox/graziano/coolCatIsaac/ATM/data/bids/sub-000/ses-01/func/sub-000_ses-01_task-Attn_run-03_bold.json\n",
      "/jukebox/graziano/coolCatIsaac/ATM/data/bids/sub-000/ses-01/func/sub-000_ses-01_task-Attn_run-08_bold.json\n"
     ]
    }
   ],
   "source": [
    "\n",
    "\n",
    "directory = os.fsencode(directory_in_str)\n",
    "    \n",
    "for file in os.listdir(directory):\n",
    "    filename = os.fsdecode(file)\n",
    "    if filename.endswith(\".json\"): \n",
    "        #print(os.path.join(directory, filename))\n",
    "        #print(type(os.fsdecode(directory)), type(filename))\n",
    "        #print(os.path.join(os.fsdecode(directory), filename))\n",
    "        test = os.path.join(os.fsdecode(directory), filename)\n",
    "        print(test)\n",
    "        ## Change line ### \n",
    "        os.chmod(test, 444)\n",
    "        index = 10\n",
    "        value = \"  \\\"CogAtlasID\\\": \\\"http://cognitiveatlas.org/task/id/tsk_4a57abb949a4f/\\\",\\n\"\n",
    "        with open(test, \"r\") as f:\n",
    "            contents = f.readlines()\n",
    "\n",
    "        contents.insert(index, value)\n",
    "\n",
    "        with open(test, \"w\") as f:\n",
    "            contents = \"\".join(contents)\n",
    "            f.write(contents)\n",
    "        continue\n",
    "    else:\n",
    "        continue"
   ]
  },
  {
   "cell_type": "code",
   "execution_count": 35,
   "id": "grand-corruption",
   "metadata": {},
   "outputs": [],
   "source": [
    "#test = \"/jukebox/graziano/coolCatIsaac/ATM/data/work/sample.json\"\n",
    "#test = \"/jukebox/graziano/coolCatIsaac/ATM/data/work/TESTsub-000_ses-01_task-Attn_run-01_bold.json\"\n"
   ]
  },
  {
   "cell_type": "code",
   "execution_count": 6,
   "id": "square-former",
   "metadata": {},
   "outputs": [],
   "source": [
    "\n",
    "#os.chmod(test, stat.S_IWRITE | stat.S_IEXEC)\n",
    "os.chmod(test, 444)"
   ]
  },
  {
   "cell_type": "code",
   "execution_count": 8,
   "id": "bright-flower",
   "metadata": {},
   "outputs": [],
   "source": [
    "index = 10\n",
    "value = \"  \\\"CogAtlasID\\\": \\\"http://cognitiveatlas.org/task/id/tsk_4a57abb949a4f/\\\",\\n\"\n",
    "with open(test, \"r\") as f:\n",
    "    contents = f.readlines()\n",
    "\n",
    "contents.insert(index, value)\n",
    "\n",
    "with open(test, \"w\") as f:\n",
    "    contents = \"\".join(contents)\n",
    "    f.write(contents)"
   ]
  },
  {
   "cell_type": "code",
   "execution_count": null,
   "id": "patient-solomon",
   "metadata": {},
   "outputs": [],
   "source": []
  },
  {
   "cell_type": "code",
   "execution_count": null,
   "id": "elect-strengthening",
   "metadata": {},
   "outputs": [],
   "source": []
  },
  {
   "cell_type": "code",
   "execution_count": 29,
   "id": "fifty-bumper",
   "metadata": {},
   "outputs": [
    {
     "ename": "KeyError",
     "evalue": "0",
     "output_type": "error",
     "traceback": [
      "\u001b[0;31m---------------------------------------------------------------------------\u001b[0m",
      "\u001b[0;31mKeyError\u001b[0m                                  Traceback (most recent call last)",
      "\u001b[0;32m<ipython-input-29-80a4aab09c73>\u001b[0m in \u001b[0;36m<module>\u001b[0;34m\u001b[0m\n\u001b[0;32m----> 1\u001b[0;31m \u001b[0mdata\u001b[0m\u001b[0;34m[\u001b[0m\u001b[0;36m0\u001b[0m\u001b[0;34m]\u001b[0m\u001b[0;34m\u001b[0m\u001b[0;34m\u001b[0m\u001b[0m\n\u001b[0m",
      "\u001b[0;31mKeyError\u001b[0m: 0"
     ]
    }
   ],
   "source": [
    "data[0]"
   ]
  },
  {
   "cell_type": "code",
   "execution_count": null,
   "id": "russian-collins",
   "metadata": {},
   "outputs": [],
   "source": [
    "for i in data['CogAtlasID']:\n",
    "    print(i)"
   ]
  }
 ],
 "metadata": {
  "kernelspec": {
   "display_name": "Python 3",
   "language": "python",
   "name": "python3"
  },
  "language_info": {
   "codemirror_mode": {
    "name": "ipython",
    "version": 3
   },
   "file_extension": ".py",
   "mimetype": "text/x-python",
   "name": "python",
   "nbconvert_exporter": "python",
   "pygments_lexer": "ipython3",
   "version": "3.7.9"
  }
 },
 "nbformat": 4,
 "nbformat_minor": 5
}
