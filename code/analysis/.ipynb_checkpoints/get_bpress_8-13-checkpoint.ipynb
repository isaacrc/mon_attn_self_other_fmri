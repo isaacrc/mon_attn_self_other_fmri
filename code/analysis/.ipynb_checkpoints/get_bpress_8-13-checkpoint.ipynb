{
 "cells": [
  {
   "cell_type": "code",
   "execution_count": 1,
   "metadata": {},
   "outputs": [],
   "source": [
    "import json\n",
    "#Pandas for saving datasets\n",
    "import pandas as pd\n",
    "#matplotlib for rendering\n",
    "import matplotlib.pyplot as plt\n",
    "#numpy for handeling matrix operations\n",
    "import numpy as np\n",
    "#time, to, well... keep track of time\n",
    "import time\n",
    "#iPython display for making sure we can render the frames\n",
    "from IPython import display\n",
    "#seaborn for rendering\n",
    "import seaborn\n",
    "import math\n",
    "import os"
   ]
  },
  {
   "cell_type": "markdown",
   "metadata": {},
   "source": [
    "# Find button presses / Counts "
   ]
  },
  {
   "cell_type": "code",
   "execution_count": 14,
   "metadata": {},
   "outputs": [],
   "source": [
    "## Reformats the button press array and returns the button press instances  ##\n",
    "def org_bpress(arg):\n",
    "    tem = len(arg.split())\n",
    "    return [1] * tem\n",
    "    \n",
    "    "
   ]
  },
  {
   "cell_type": "code",
   "execution_count": 15,
   "metadata": {},
   "outputs": [],
   "source": [
    "## Reformats the time array and returns the rounded (two decimals) time stamp  ##\n",
    "## Timestamp represents the time the button was pressed, start of the run is t-zero ##\n",
    "#returns an array of floats\n",
    "import re\n",
    "def org_tpress(arg):\n",
    "    tem = arg.split()\n",
    "    a=[]\n",
    "    for i in tem:\n",
    "        S = i\n",
    "        pattern = re.compile(r'\\-?\\d+\\.\\d+')\n",
    "        weights = list(map(float, re.findall(pattern, S)))\n",
    "        a.append(round(float(weights[0]),2))\n",
    "    #print(a)\n",
    "    return(a)\n",
    "    \n",
    "    "
   ]
  },
  {
   "cell_type": "code",
   "execution_count": 16,
   "metadata": {},
   "outputs": [],
   "source": [
    "## Returns the TR prior to the button press ## \n",
    "# arg is each time stamp: ([20.37, 45.95, 71.57, ...]) \n",
    "def tr_stam(arg):\n",
    "    a = []\n",
    "    for i in arg:\n",
    "        a.append(int(round(i / 1.5,0)))\n",
    "        #print(a)\n",
    "    return(a)"
   ]
  },
  {
   "cell_type": "code",
   "execution_count": 111,
   "metadata": {},
   "outputs": [],
   "source": [
    "## Returns a list of 209 TRs, 1 is a button press, 0 is not ## \n",
    "\"\"\"\n",
    "all_TR_pres: \n",
    " - iterate to num TRs (e.g. 210)\n",
    " - set the bpress TR (14,31,48) to 1, else the value is zero\n",
    " - returns: array of length num_trs with ones and zeros \n",
    "\"\"\"\n",
    "def all_TR_pres(arg, num_trs):\n",
    "    a = []\n",
    "    for i in range(1,num_trs+1):\n",
    "        if i in arg:\n",
    "            a.append(1)\n",
    "        else:\n",
    "            a.append(0)\n",
    "    return a\n",
    "            "
   ]
  },
  {
   "cell_type": "code",
   "execution_count": 124,
   "metadata": {},
   "outputs": [],
   "source": [
    "# Take in raw column data and return vector 0s and 1s, button press or no button press\n",
    "\"\"\"\n",
    "Input press data at e.g. sub.iloc[1,4]:\n",
    " - \"['1', '1', '1', '1', '1', '1', '1', '1', '1', '1', '1', '1']\"\n",
    "Input time data. This is the column immediately after :\n",
    " - '[20.37084077997133, 45.95158576697577, 71.56790153402835, ...] etc.\n",
    "npress: reformat the above PRESS input data to integers\n",
    "ts_stamp: reformat the above TIME input data into floats - time of runstart is t=0\n",
    "tr_stam: take the reformatted data afrom ts_stamp ([20.37, 45.95, 71.57])\n",
    " - Divide timestamp, say 20.37, by 1.5. Result is 13.58. \n",
    " - Round 13.58 up to 14\n",
    " - Between the 13th and 14th TR, the bpress occurs \n",
    " - We round, so on the 14th TR the button press occurs \n",
    " - Returns all of the TRs prior to the bpress: [14, 31, 48,..]\n",
    "all_TR_pres: \n",
    " - iterate to num TRs (e.g. 210)\n",
    " - set the bpress TR (14,31,48) to 1, else the value is zero\n",
    " - returns: array of length num_trs with ones and zeros \n",
    "\"\"\"\n",
    "def run_press(pressN, timeN):\n",
    "    n_press = org_bpress(pressN)\n",
    "    ts_stamp = org_tpress(timeN)\n",
    "    tr_stamp = tr_stam(ts_stamp)\n",
    "    binar_210 = all_TR_pres(tr_stamp,num_trs)\n",
    "    tr_210 = tr_stamp\n",
    "    return binar_210, tr_210"
   ]
  },
  {
   "cell_type": "code",
   "execution_count": 22,
   "metadata": {},
   "outputs": [],
   "source": [
    "def find_cond_index(sub_ses_labels):\n",
    "    \"\"\"\n",
    "    For the array of ordered run names (i.e.'Re', 'SM',) find the two indexes per condition\n",
    "    \"\"\" \n",
    "    lab_inx = []\n",
    "\n",
    "    a = []\n",
    "    b = []\n",
    "    c = []\n",
    "    d = []\n",
    "\n",
    "    for i in enumerate(sub_ses_labels):\n",
    "        if i[1] == \"SM\":\n",
    "            # append the index according to where it appeared in the array\n",
    "            a.append(i[0])\n",
    "        if i[1] == \"SC\":\n",
    "            b.append(i[0])\n",
    "        if i[1] == \"OM\":\n",
    "            c.append(i[0])\n",
    "        if i[1] == \"OC\":\n",
    "            d.append(i[0])\n",
    "\n",
    "    # Create a dictionary where each key contains the appropriate indexes\n",
    "    lab_indic = {\n",
    "        'SM' : a,\n",
    "        'SC' : b,\n",
    "        'OM' : c,\n",
    "        'OC' : d\n",
    "    }\n",
    "    return lab_indic \n",
    "    #np.vstack(lab_inx, [\"SM\", \"SC\", \"OM\", \"OC\"])"
   ]
  },
  {
   "cell_type": "code",
   "execution_count": 129,
   "metadata": {},
   "outputs": [],
   "source": [
    "def bpress_arrays(dframe, sub_ses_labels):\n",
    "    \"\"\"\n",
    "    Take in a column value (self or other) and count the number of presses for that particular run\n",
    "    First get all self_btn info, add to an array. \n",
    "    Second, get all other info, add to an array\n",
    "    All data is UNSORTED.\n",
    "    args:\n",
    "        cleaned subject dataframe\n",
    "        \n",
    "    return: \n",
    "        cond: unsorted array of labels (Self, then Other conds)\n",
    "        Bpress: shape = 8 conditions by X TRs. 1s and 0s\n",
    "\n",
    "    \"\"\"\n",
    "    \n",
    "    df = []\n",
    "    cond = []\n",
    "    \n",
    "    for col_ind, col_val in enumerate(dframe.columns):\n",
    "        if col_val == \"self_btn.keys\":\n",
    "            # For all Rows in the self column\n",
    "            # if the row is of type string\n",
    "            for row_inx, row_val in enumerate(dframe.iloc[0:,col_ind]):\n",
    "                #if type(row_val) is type(\"a\"):\n",
    "                if row_val != \"-1\":\n",
    "                    # Add to condition array\n",
    "                    # There are 10 rows, and 10 runs. \n",
    "                    # I could pull from the third column to get the string name\n",
    "                    # Instead i pull from the label order in sub_ses, which corresponds to the\n",
    "                    # row_inx\n",
    "                    cond.append(sub_ses_labels[row_inx])\n",
    "                    \"\"\"\n",
    "                    run_press takes in the button presses, then the timing info (+1)\n",
    "                    returns: a list of button presses, 1s and 0s for each run - [0]\n",
    "                            - OR the TR when the button press occured - [1]\n",
    "                    \"\"\"\n",
    "                    print(\"rowval:\",row_inx, \"colval:\",col_ind, \"dframe val:\", dframe.iloc[row_inx,col_ind])\n",
    "                    df.append(np.asarray(run_press(dframe.iloc[row_inx,col_ind],dframe.iloc[row_inx,col_ind+1])[1]).flatten())\n",
    "                    tem = sum(run_press(dframe.iloc[row_inx,col_ind],dframe.iloc[row_inx,col_ind+1])[0])\n",
    "                    print(sub_ses_labels[row_inx], \"Sum bpress: \", tem)\n",
    "        elif col_val == \"other_j_btn1.keys\" or col_val ==\"other_n_btn.keys\":\n",
    "            #print(col_ind)\n",
    "            for row_inx, row_val in enumerate(dframe.iloc[0:,col_ind]):\n",
    "                if row_val != \"-1\":\n",
    "                    # Add to condition array\n",
    "                    cond.append(sub_ses_labels[row_inx])\n",
    "                    # append button press info\n",
    "                    print(\"rowval:\",row_inx, \"colval:\",col_ind, \"dframe val:\", dframe.iloc[row_inx,col_ind])\n",
    "                    df.append(np.asarray(run_press(dframe.iloc[row_inx,col_ind],dframe.iloc[row_inx,col_ind+1])[1]).flatten())\n",
    "                    tem = sum(run_press(dframe.iloc[row_inx,col_ind],dframe.iloc[row_inx,col_ind+1])[0])\n",
    "                    print(sub_ses_labels[row_inx], \"Sum bpress: \", tem)\n",
    "\n",
    "    return np.asarray(df), cond\n",
    "\n"
   ]
  },
  {
   "cell_type": "code",
   "execution_count": 106,
   "metadata": {},
   "outputs": [],
   "source": [
    "def sort_bpress_data(unsort_bpress,lab_indic_inc, lab_indic_cor):\n",
    "    \"\"\"\n",
    "    1. find the correct index for SM, SC, etc.\n",
    "    2. find the index of SM in the other dataframe\n",
    "    3. set the empyt dataframe index of the correct SM to the data of the unsort\n",
    "    4. Iterate\n",
    "    \"\"\"\n",
    "    # create empty dframe for organized bpress data from shape of unsorted dframe\n",
    "    sort_bpress = np.zeros(unsort_bpress.shape)\n",
    "    print(\"Finished!\")\n",
    "    for i in range(0,2):\n",
    "        sort_bpress[lab_indic_cor['SM'][i]] = unsort_bpress[lab_indic_inc['SM'][i]]\n",
    "        sort_bpress[lab_indic_cor['SC'][i]] = unsort_bpress[lab_indic_inc['SC'][i]]\n",
    "        sort_bpress[lab_indic_cor['OM'][i]] = unsort_bpress[lab_indic_inc['OM'][i]]\n",
    "        sort_bpress[lab_indic_cor['OC'][i]] = unsort_bpress[lab_indic_inc['OC'][i]]\n",
    "    return sort_bpress \n",
    "    \n",
    "    \n",
    "    \n",
    "    \n",
    "    \n",
    "    "
   ]
  },
  {
   "cell_type": "code",
   "execution_count": 133,
   "metadata": {},
   "outputs": [
    {
     "data": {
      "text/plain": [
       "array([ 14,  31,  48,  64,  80,  98, 115, 132, 151, 169, 187, 205])"
      ]
     },
     "execution_count": 133,
     "metadata": {},
     "output_type": "execute_result"
    }
   ],
   "source": [
    "np.asarray(run_press(behav.iloc[1,4],behav.iloc[1,5])[1]).flatten()"
   ]
  },
  {
   "cell_type": "code",
   "execution_count": null,
   "metadata": {},
   "outputs": [],
   "source": [
    "\"\"\"The issue is that i'm creating an empty dframe of zeros that is of shape 209. But this aint the case for\n",
    "button press by TR data as is listed below! \n",
    "** I need a function that converts from 1s, 0s, back to this kind of\n",
    "data -- should be simple enough. Then insert into hemodynamic response guy\n",
    "\"\"\""
   ]
  },
  {
   "cell_type": "code",
   "execution_count": 135,
   "metadata": {},
   "outputs": [
    {
     "data": {
      "text/plain": [
       "array([array([ 14,  31,  48,  64,  80,  98, 115, 132, 151, 169, 187, 205]),\n",
       "       array([ 34,  58,  83,  96, 125, 154, 191]),\n",
       "       array([ 17,  37,  55,  73,  95, 116, 138, 159, 179, 197]),\n",
       "       array([ 19,  32,  49,  70,  78, 108, 140, 152, 162, 185, 200]),\n",
       "       array([ 23,  26,  46,  55, 104, 126, 148]),\n",
       "       array([  9,  23,  38,  52,  67,  81,  95, 113, 126, 143, 153, 170, 185]),\n",
       "       array([ 58,  66,  74, 101, 104, 136, 156, 171, 180, 185, 196, 199]),\n",
       "       array([ 15,  31,  48,  62,  78,  94, 110, 126, 140, 154, 170, 184, 204])],\n",
       "      dtype=object)"
      ]
     },
     "execution_count": 135,
     "metadata": {},
     "output_type": "execute_result"
    }
   ],
   "source": [
    "unsort_bpress"
   ]
  },
  {
   "cell_type": "code",
   "execution_count": 134,
   "metadata": {},
   "outputs": [
    {
     "name": "stdout",
     "output_type": "stream",
     "text": [
      "Finished!\n"
     ]
    },
    {
     "ename": "ValueError",
     "evalue": "setting an array element with a sequence.",
     "output_type": "error",
     "traceback": [
      "\u001b[0;31m---------------------------------------------------------------------------\u001b[0m",
      "\u001b[0;31mTypeError\u001b[0m                                 Traceback (most recent call last)",
      "\u001b[0;31mTypeError\u001b[0m: only size-1 arrays can be converted to Python scalars",
      "\nThe above exception was the direct cause of the following exception:\n",
      "\u001b[0;31mValueError\u001b[0m                                Traceback (most recent call last)",
      "\u001b[0;32m<ipython-input-134-595fb277395b>\u001b[0m in \u001b[0;36m<module>\u001b[0;34m\u001b[0m\n\u001b[0;32m----> 1\u001b[0;31m \u001b[0msort_bpress_data\u001b[0m\u001b[0;34m(\u001b[0m\u001b[0munsort_bpress\u001b[0m\u001b[0;34m,\u001b[0m\u001b[0mlab_indic_inc\u001b[0m\u001b[0;34m,\u001b[0m \u001b[0mlab_indic_cor\u001b[0m\u001b[0;34m)\u001b[0m\u001b[0;34m\u001b[0m\u001b[0;34m\u001b[0m\u001b[0m\n\u001b[0m",
      "\u001b[0;32m<ipython-input-106-04bfbc675c17>\u001b[0m in \u001b[0;36msort_bpress_data\u001b[0;34m(unsort_bpress, lab_indic_inc, lab_indic_cor)\u001b[0m\n\u001b[1;32m     10\u001b[0m     \u001b[0mprint\u001b[0m\u001b[0;34m(\u001b[0m\u001b[0;34m\"Finished!\"\u001b[0m\u001b[0;34m)\u001b[0m\u001b[0;34m\u001b[0m\u001b[0;34m\u001b[0m\u001b[0m\n\u001b[1;32m     11\u001b[0m     \u001b[0;32mfor\u001b[0m \u001b[0mi\u001b[0m \u001b[0;32min\u001b[0m \u001b[0mrange\u001b[0m\u001b[0;34m(\u001b[0m\u001b[0;36m0\u001b[0m\u001b[0;34m,\u001b[0m\u001b[0;36m2\u001b[0m\u001b[0;34m)\u001b[0m\u001b[0;34m:\u001b[0m\u001b[0;34m\u001b[0m\u001b[0;34m\u001b[0m\u001b[0m\n\u001b[0;32m---> 12\u001b[0;31m         \u001b[0msort_bpress\u001b[0m\u001b[0;34m[\u001b[0m\u001b[0mlab_indic_cor\u001b[0m\u001b[0;34m[\u001b[0m\u001b[0;34m'SM'\u001b[0m\u001b[0;34m]\u001b[0m\u001b[0;34m[\u001b[0m\u001b[0mi\u001b[0m\u001b[0;34m]\u001b[0m\u001b[0;34m]\u001b[0m \u001b[0;34m=\u001b[0m \u001b[0munsort_bpress\u001b[0m\u001b[0;34m[\u001b[0m\u001b[0mlab_indic_inc\u001b[0m\u001b[0;34m[\u001b[0m\u001b[0;34m'SM'\u001b[0m\u001b[0;34m]\u001b[0m\u001b[0;34m[\u001b[0m\u001b[0mi\u001b[0m\u001b[0;34m]\u001b[0m\u001b[0;34m]\u001b[0m\u001b[0;34m\u001b[0m\u001b[0;34m\u001b[0m\u001b[0m\n\u001b[0m\u001b[1;32m     13\u001b[0m         \u001b[0msort_bpress\u001b[0m\u001b[0;34m[\u001b[0m\u001b[0mlab_indic_cor\u001b[0m\u001b[0;34m[\u001b[0m\u001b[0;34m'SC'\u001b[0m\u001b[0;34m]\u001b[0m\u001b[0;34m[\u001b[0m\u001b[0mi\u001b[0m\u001b[0;34m]\u001b[0m\u001b[0;34m]\u001b[0m \u001b[0;34m=\u001b[0m \u001b[0munsort_bpress\u001b[0m\u001b[0;34m[\u001b[0m\u001b[0mlab_indic_inc\u001b[0m\u001b[0;34m[\u001b[0m\u001b[0;34m'SC'\u001b[0m\u001b[0;34m]\u001b[0m\u001b[0;34m[\u001b[0m\u001b[0mi\u001b[0m\u001b[0;34m]\u001b[0m\u001b[0;34m]\u001b[0m\u001b[0;34m\u001b[0m\u001b[0;34m\u001b[0m\u001b[0m\n\u001b[1;32m     14\u001b[0m         \u001b[0msort_bpress\u001b[0m\u001b[0;34m[\u001b[0m\u001b[0mlab_indic_cor\u001b[0m\u001b[0;34m[\u001b[0m\u001b[0;34m'OM'\u001b[0m\u001b[0;34m]\u001b[0m\u001b[0;34m[\u001b[0m\u001b[0mi\u001b[0m\u001b[0;34m]\u001b[0m\u001b[0;34m]\u001b[0m \u001b[0;34m=\u001b[0m \u001b[0munsort_bpress\u001b[0m\u001b[0;34m[\u001b[0m\u001b[0mlab_indic_inc\u001b[0m\u001b[0;34m[\u001b[0m\u001b[0;34m'OM'\u001b[0m\u001b[0;34m]\u001b[0m\u001b[0;34m[\u001b[0m\u001b[0mi\u001b[0m\u001b[0;34m]\u001b[0m\u001b[0;34m]\u001b[0m\u001b[0;34m\u001b[0m\u001b[0;34m\u001b[0m\u001b[0m\n",
      "\u001b[0;31mValueError\u001b[0m: setting an array element with a sequence."
     ]
    }
   ],
   "source": [
    "sort_bpress_data(unsort_bpress,lab_indic_inc, lab_indic_cor)"
   ]
  },
  {
   "cell_type": "code",
   "execution_count": null,
   "metadata": {},
   "outputs": [],
   "source": []
  },
  {
   "cell_type": "code",
   "execution_count": null,
   "metadata": {},
   "outputs": [],
   "source": []
  },
  {
   "cell_type": "code",
   "execution_count": 115,
   "metadata": {},
   "outputs": [],
   "source": [
    "behav_p = '/jukebox/graziano/coolCatIsaac/ATM/data/behavioral'\n",
    "sav_work = \"/jukebox/graziano/coolCatIsaac/ATM/data/work/results/\"\n",
    "sub_list = ['sub-003']\n",
    "num_trs = 209"
   ]
  },
  {
   "cell_type": "code",
   "execution_count": 130,
   "metadata": {
    "collapsed": true
   },
   "outputs": [
    {
     "name": "stdout",
     "output_type": "stream",
     "text": [
      "BEGIN:  sub-003\n",
      "rowval: 1 colval: 4 dframe val: ['1', '1', '1', '1', '1', '1', '1', '1', '1', '1', '1', '1']\n",
      "SC Sum bpress:  12\n",
      "rowval: 2 colval: 4 dframe val: ['1', '1', '1', '1', '1', '1', '1']\n",
      "SM Sum bpress:  7\n",
      "rowval: 5 colval: 4 dframe val: ['1', '1', '1', '1', '1', '1', '1', '1', '1', '1']\n",
      "SC Sum bpress:  10\n",
      "rowval: 7 colval: 4 dframe val: ['1', '1', '1', '1', '1', '1', '1', '1', '1', '1', '1']\n",
      "SM Sum bpress:  11\n",
      "rowval: 3 colval: 7 dframe val: ['1', '1', '1', '1', '1', '1', '1']\n",
      "OM Sum bpress:  7\n",
      "rowval: 4 colval: 7 dframe val: ['1', '1', '1', '1', '1', '1', '1', '1', '1', '1', '1', '1', '1']\n",
      "OC Sum bpress:  13\n",
      "rowval: 6 colval: 10 dframe val: ['1', '1', '1', '1', '1', '1', '1', '1', '1', '1', '1', '1']\n",
      "OM Sum bpress:  12\n",
      "rowval: 8 colval: 10 dframe val: ['1', '1', '1', '1', '1', '1', '1', '1', '1', '1', '1', '1', '1']\n",
      "OC Sum bpress:  13\n",
      "Finished!\n"
     ]
    },
    {
     "ename": "ValueError",
     "evalue": "setting an array element with a sequence.",
     "output_type": "error",
     "traceback": [
      "\u001b[0;31m---------------------------------------------------------------------------\u001b[0m",
      "\u001b[0;31mTypeError\u001b[0m                                 Traceback (most recent call last)",
      "\u001b[0;31mTypeError\u001b[0m: only size-1 arrays can be converted to Python scalars",
      "\nThe above exception was the direct cause of the following exception:\n",
      "\u001b[0;31mValueError\u001b[0m                                Traceback (most recent call last)",
      "\u001b[0;32m<ipython-input-130-90e8969ab0e5>\u001b[0m in \u001b[0;36m<module>\u001b[0;34m\u001b[0m\n\u001b[1;32m     13\u001b[0m     \u001b[0mlab_indic_inc\u001b[0m \u001b[0;34m=\u001b[0m \u001b[0mfind_cond_index\u001b[0m\u001b[0;34m(\u001b[0m\u001b[0mcond\u001b[0m\u001b[0;34m)\u001b[0m\u001b[0;34m\u001b[0m\u001b[0;34m\u001b[0m\u001b[0m\n\u001b[1;32m     14\u001b[0m     \u001b[0;31m# Returns 8x209 dataframe of 1s and 0s, sorted correctly by when the run occured\u001b[0m\u001b[0;34m\u001b[0m\u001b[0;34m\u001b[0m\u001b[0;34m\u001b[0m\u001b[0m\n\u001b[0;32m---> 15\u001b[0;31m     \u001b[0msort_bpress\u001b[0m \u001b[0;34m=\u001b[0m \u001b[0msort_bpress_data\u001b[0m\u001b[0;34m(\u001b[0m\u001b[0munsort_bpress\u001b[0m\u001b[0;34m,\u001b[0m\u001b[0mlab_indic_inc\u001b[0m\u001b[0;34m,\u001b[0m \u001b[0mlab_indic_cor\u001b[0m\u001b[0;34m)\u001b[0m\u001b[0;34m\u001b[0m\u001b[0;34m\u001b[0m\u001b[0m\n\u001b[0m\u001b[1;32m     16\u001b[0m \u001b[0;34m\u001b[0m\u001b[0m\n",
      "\u001b[0;32m<ipython-input-106-04bfbc675c17>\u001b[0m in \u001b[0;36msort_bpress_data\u001b[0;34m(unsort_bpress, lab_indic_inc, lab_indic_cor)\u001b[0m\n\u001b[1;32m     10\u001b[0m     \u001b[0mprint\u001b[0m\u001b[0;34m(\u001b[0m\u001b[0;34m\"Finished!\"\u001b[0m\u001b[0;34m)\u001b[0m\u001b[0;34m\u001b[0m\u001b[0;34m\u001b[0m\u001b[0m\n\u001b[1;32m     11\u001b[0m     \u001b[0;32mfor\u001b[0m \u001b[0mi\u001b[0m \u001b[0;32min\u001b[0m \u001b[0mrange\u001b[0m\u001b[0;34m(\u001b[0m\u001b[0;36m0\u001b[0m\u001b[0;34m,\u001b[0m\u001b[0;36m2\u001b[0m\u001b[0;34m)\u001b[0m\u001b[0;34m:\u001b[0m\u001b[0;34m\u001b[0m\u001b[0;34m\u001b[0m\u001b[0m\n\u001b[0;32m---> 12\u001b[0;31m         \u001b[0msort_bpress\u001b[0m\u001b[0;34m[\u001b[0m\u001b[0mlab_indic_cor\u001b[0m\u001b[0;34m[\u001b[0m\u001b[0;34m'SM'\u001b[0m\u001b[0;34m]\u001b[0m\u001b[0;34m[\u001b[0m\u001b[0mi\u001b[0m\u001b[0;34m]\u001b[0m\u001b[0;34m]\u001b[0m \u001b[0;34m=\u001b[0m \u001b[0munsort_bpress\u001b[0m\u001b[0;34m[\u001b[0m\u001b[0mlab_indic_inc\u001b[0m\u001b[0;34m[\u001b[0m\u001b[0;34m'SM'\u001b[0m\u001b[0;34m]\u001b[0m\u001b[0;34m[\u001b[0m\u001b[0mi\u001b[0m\u001b[0;34m]\u001b[0m\u001b[0;34m]\u001b[0m\u001b[0;34m\u001b[0m\u001b[0;34m\u001b[0m\u001b[0m\n\u001b[0m\u001b[1;32m     13\u001b[0m         \u001b[0msort_bpress\u001b[0m\u001b[0;34m[\u001b[0m\u001b[0mlab_indic_cor\u001b[0m\u001b[0;34m[\u001b[0m\u001b[0;34m'SC'\u001b[0m\u001b[0;34m]\u001b[0m\u001b[0;34m[\u001b[0m\u001b[0mi\u001b[0m\u001b[0;34m]\u001b[0m\u001b[0;34m]\u001b[0m \u001b[0;34m=\u001b[0m \u001b[0munsort_bpress\u001b[0m\u001b[0;34m[\u001b[0m\u001b[0mlab_indic_inc\u001b[0m\u001b[0;34m[\u001b[0m\u001b[0;34m'SC'\u001b[0m\u001b[0;34m]\u001b[0m\u001b[0;34m[\u001b[0m\u001b[0mi\u001b[0m\u001b[0;34m]\u001b[0m\u001b[0;34m]\u001b[0m\u001b[0;34m\u001b[0m\u001b[0;34m\u001b[0m\u001b[0m\n\u001b[1;32m     14\u001b[0m         \u001b[0msort_bpress\u001b[0m\u001b[0;34m[\u001b[0m\u001b[0mlab_indic_cor\u001b[0m\u001b[0;34m[\u001b[0m\u001b[0;34m'OM'\u001b[0m\u001b[0;34m]\u001b[0m\u001b[0;34m[\u001b[0m\u001b[0mi\u001b[0m\u001b[0;34m]\u001b[0m\u001b[0;34m]\u001b[0m \u001b[0;34m=\u001b[0m \u001b[0munsort_bpress\u001b[0m\u001b[0;34m[\u001b[0m\u001b[0mlab_indic_inc\u001b[0m\u001b[0;34m[\u001b[0m\u001b[0;34m'OM'\u001b[0m\u001b[0;34m]\u001b[0m\u001b[0;34m[\u001b[0m\u001b[0mi\u001b[0m\u001b[0;34m]\u001b[0m\u001b[0;34m]\u001b[0m\u001b[0;34m\u001b[0m\u001b[0;34m\u001b[0m\u001b[0m\n",
      "\u001b[0;31mValueError\u001b[0m: setting an array element with a sequence."
     ]
    }
   ],
   "source": [
    "# start here #\n",
    "for sub in sub_list:\n",
    "    print(\"BEGIN: \", sub)\n",
    "    # Load Behavioral\n",
    "    behav = pd.read_csv(os.path.join(behav_p, '%s_behav_cleaned.csv') % (sub))\n",
    "    label = behav.iloc[:,1]\n",
    "    sub_ses_labels = label_lists(label,num_trs)\n",
    "    # Get all button press data in array form, 1s and 0s. returns an array 8x209 \n",
    "    unsort_bpress, cond = bpress_arrays(behav, sub_ses_labels[0])\n",
    "    # Find condition indexes for the unsorted + sorted data\n",
    "    # Eliminate rest conditions from orignal run labeled data\n",
    "    lab_indic_cor = find_cond_index(sub_ses_labels[0][1:-1])\n",
    "    lab_indic_inc = find_cond_index(cond)\n",
    "    # Returns 8x209 dataframe of 1s and 0s, sorted correctly by when the run occured\n",
    "    sort_bpress = sort_bpress_data(unsort_bpress,lab_indic_inc, lab_indic_cor)\n",
    "    "
   ]
  },
  {
   "cell_type": "code",
   "execution_count": 127,
   "metadata": {},
   "outputs": [
    {
     "data": {
      "text/plain": [
       "209"
      ]
     },
     "execution_count": 127,
     "metadata": {},
     "output_type": "execute_result"
    }
   ],
   "source": [
    "len(sort_bpress[0])"
   ]
  },
  {
   "cell_type": "code",
   "execution_count": 117,
   "metadata": {},
   "outputs": [],
   "source": [
    "np.save(sav_work + sub + \"bpress_rundata\", sort_bpress)\n"
   ]
  },
  {
   "cell_type": "code",
   "execution_count": null,
   "metadata": {},
   "outputs": [],
   "source": []
  },
  {
   "cell_type": "code",
   "execution_count": null,
   "metadata": {},
   "outputs": [],
   "source": []
  },
  {
   "cell_type": "code",
   "execution_count": null,
   "metadata": {},
   "outputs": [],
   "source": []
  }
 ],
 "metadata": {
  "kernelspec": {
   "display_name": "Python 3",
   "language": "python",
   "name": "python3"
  },
  "language_info": {
   "codemirror_mode": {
    "name": "ipython",
    "version": 3
   },
   "file_extension": ".py",
   "mimetype": "text/x-python",
   "name": "python",
   "nbconvert_exporter": "python",
   "pygments_lexer": "ipython3",
   "version": "3.7.9"
  }
 },
 "nbformat": 4,
 "nbformat_minor": 4
}
