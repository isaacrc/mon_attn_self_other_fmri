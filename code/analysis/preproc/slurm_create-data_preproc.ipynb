{
 "cells": [
  {
   "cell_type": "code",
   "execution_count": 1,
   "id": "seasonal-north",
   "metadata": {},
   "outputs": [],
   "source": [
    "#python resample.py $IMAGE_TO_RESAMPLE $REFERENCE_IMAGE"
   ]
  },
  {
   "cell_type": "code",
   "execution_count": 2,
   "id": "sound-logistics",
   "metadata": {},
   "outputs": [],
   "source": [
    "#jupyter nbconvert --to python slurm_create-data_preproc.ipynb"
   ]
  },
  {
   "cell_type": "code",
   "execution_count": 3,
   "id": "hybrid-assets",
   "metadata": {},
   "outputs": [],
   "source": [
    "import nibabel as nib\n",
    "\n",
    "from nilearn.input_data import NiftiMasker , MultiNiftiMasker"
   ]
  },
  {
   "cell_type": "code",
   "execution_count": 4,
   "id": "documentary-listing",
   "metadata": {},
   "outputs": [],
   "source": [
    "import nilearn as nil"
   ]
  },
  {
   "cell_type": "code",
   "execution_count": 5,
   "id": "incorporate-imaging",
   "metadata": {},
   "outputs": [],
   "source": [
    "import numpy as np \n",
    "import os\n",
    "import os.path\n",
    "import scipy.io\n",
    "import nibabel as nib\n",
    "from nilearn.input_data import NiftiMasker\n",
    "from nilearn.masking import compute_epi_mask\n",
    "from sklearn import preprocessing\n",
    "from sklearn.preprocessing import StandardScaler\n",
    "from sklearn.model_selection import PredefinedSplit\n",
    "from copy import deepcopy"
   ]
  },
  {
   "cell_type": "code",
   "execution_count": 6,
   "id": "historical-matter",
   "metadata": {},
   "outputs": [],
   "source": [
    "import warnings\n",
    "import sys  \n",
    "import random\n",
    "# import logging\n",
    "\n",
    "import deepdish as dd\n",
    "import numpy as np\n",
    "\n",
    "import brainiak.eventseg.event\n",
    "import nibabel as nib\n",
    "from nilearn.input_data import NiftiMasker\n",
    "\n",
    "import scipy.io\n",
    "from scipy import stats\n",
    "from scipy.stats import norm, zscore, pearsonr\n",
    "from scipy.signal import gaussian, convolve\n",
    "from sklearn import decomposition\n",
    "from sklearn.model_selection import LeaveOneOut, KFold\n",
    "\n",
    "from matplotlib import pyplot as plt\n",
    "from mpl_toolkits.mplot3d import Axes3D\n",
    "import matplotlib.patches as patches\n",
    "import seaborn as sns \n",
    "\n",
    "#%autosave 5\n",
    "#%matplotlib inline\n",
    "sns.set(style = 'white', context='talk', font_scale=1, rc={\"lines.linewidth\": 2})\n",
    "\n",
    "if not sys.warnoptions:\n",
    "    warnings.simplefilter(\"ignore\")\n",
    "\n",
    "\"\"\"\n",
    "from utils import sherlock_h5_data\n",
    "\n",
    "if not os.path.exists(sherlock_h5_data):\n",
    "    os.makedirs(sherlock_h5_data)\n",
    "    print('Make dir: ', sherlock_h5_data)\n",
    "else: \n",
    "    print('Data path exists')\n",
    "    \n",
    "from utils import sherlock_dir\n",
    "\"\"\"\n",
    "\n",
    "random.seed(10)"
   ]
  },
  {
   "cell_type": "code",
   "execution_count": 7,
   "id": "increased-driving",
   "metadata": {},
   "outputs": [],
   "source": [
    "#%matplotlib inline\n",
    "from brainiak import image, io\n",
    "from scipy.stats import stats\n",
    "import nibabel as nib\n",
    "import numpy as np\n",
    "from matplotlib import pyplot as plt\n",
    "from brainiak import image, io"
   ]
  },
  {
   "cell_type": "code",
   "execution_count": 8,
   "id": "maritime-counter",
   "metadata": {},
   "outputs": [],
   "source": [
    "import matplotlib.pyplot as plt\n",
    "from sklearn.datasets import load_digits\n",
    "from sklearn.model_selection import GridSearchCV\n",
    "from sklearn.pipeline import Pipeline\n",
    "from sklearn.svm import LinearSVC\n",
    "from sklearn.decomposition import PCA, NMF\n",
    "from sklearn.feature_selection import SelectKBest, chi2\n",
    "from sklearn.model_selection import train_test_split\n",
    "from sklearn.model_selection import GroupShuffleSplit\n",
    "from sklearn.model_selection import LeavePGroupsOut"
   ]
  },
  {
   "cell_type": "code",
   "execution_count": 9,
   "id": "increased-worst",
   "metadata": {},
   "outputs": [],
   "source": [
    "import pandas as pd"
   ]
  },
  {
   "cell_type": "code",
   "execution_count": 10,
   "id": "incident-communications",
   "metadata": {},
   "outputs": [],
   "source": [
    "# Import machine learning libraries\n",
    "from nilearn.input_data import NiftiMasker\n",
    "from sklearn import preprocessing\n",
    "from sklearn.model_selection import GridSearchCV, PredefinedSplit\n",
    "from sklearn.svm import SVC\n",
    "from sklearn.decomposition import PCA\n",
    "from sklearn.feature_selection import VarianceThreshold, f_classif, SelectKBest\n",
    "from sklearn.pipeline import Pipeline\n",
    "from sklearn.linear_model import LogisticRegression\n",
    "from scipy.stats import sem\n",
    "from copy import deepcopy\n",
    "from sklearn.metrics import roc_auc_score\n",
    "import statistics"
   ]
  },
  {
   "cell_type": "code",
   "execution_count": 11,
   "id": "reserved-cancer",
   "metadata": {},
   "outputs": [],
   "source": [
    "# Visualize it as an ROI\n",
    "from nilearn.plotting import plot_roi\n",
    "#plot_roi(x)"
   ]
  },
  {
   "cell_type": "code",
   "execution_count": 12,
   "id": "static-editing",
   "metadata": {},
   "outputs": [],
   "source": [
    "from nilearn.image import concat_imgs, resample_img, mean_img\n",
    "from nilearn.plotting import view_img"
   ]
  },
  {
   "cell_type": "code",
   "execution_count": 13,
   "id": "modified-advertiser",
   "metadata": {},
   "outputs": [],
   "source": [
    "from nilearn import datasets, plotting\n",
    "from nilearn.input_data import NiftiSpheresMasker\n",
    "\n",
    "from nilearn.glm.first_level import FirstLevelModel\n",
    "from nilearn.glm.first_level import make_first_level_design_matrix\n",
    "from nilearn.image import concat_imgs, resample_img, mean_img,index_img\n",
    "from nilearn import image\n",
    "from nilearn import masking\n",
    "from nilearn.plotting import view_img\n",
    "from nilearn.image import resample_to_img"
   ]
  },
  {
   "cell_type": "markdown",
   "id": "equivalent-corner",
   "metadata": {},
   "source": [
    "# Functions "
   ]
  },
  {
   "cell_type": "code",
   "execution_count": 14,
   "id": "eight-scene",
   "metadata": {},
   "outputs": [],
   "source": [
    "# Visualize it as an ROI\n",
    "from nilearn.plotting import plot_roi\n"
   ]
  },
  {
   "cell_type": "code",
   "execution_count": 15,
   "id": "accessible-pizza",
   "metadata": {},
   "outputs": [],
   "source": [
    "def load_epi_data(sub, ses, task,run, space):\n",
    "  # Load MRI file\n",
    "    if space == \"MNI\":\n",
    "        epi_in = os.path.join(data_dir, sub, ses, 'func', \"%s_%s_task-%s_run-%s_space-MNI152NLin2009cAsym_desc-preproc_bold.nii.gz\" % (sub, ses, task,run))\n",
    "    elif space == \"T1\":\n",
    "        epi_in = os.path.join(data_dir, sub, ses, 'func', \"%s_%s_task-%s_run-%s_space-T1w_desc-preproc_bold.nii.gz\" % (sub, ses, task,run))\n",
    "    else:\n",
    "        print(\"wrong load epi input. check this function\")\n",
    "    epi_data = nib.load(epi_in)\n",
    "    print(epi_data.shape)\n",
    "    print(\"Loading data from %s\" % (epi_in))\n",
    "    return epi_data\n",
    "\n",
    "def load_roi_mask(ROI_name, space):\n",
    "    if space == \"MNI\":\n",
    "        maskdir = os.path.join(rois_dir)    \n",
    "        print(\"expected shape: 78, 93,65\")\n",
    "    elif space == \"T1\":\n",
    "        maskdir = os.path.join(rois_dir+ \"/T1\")\n",
    "        print(\"expected shape: 56, 72,53\")\n",
    "    else:\n",
    "        print(\"wrong mask input. check this function\")\n",
    "    # load the mask\n",
    "    maskfile = os.path.join(maskdir, \"%s.nii\" % (ROI_name))\n",
    "    mask = nib.load(maskfile)\n",
    "    print(\"mask shape: \", mask.shape)\n",
    "    print(\"Loaded %s mask\" % (ROI_name))\n",
    "    return mask\n",
    "def intersect_mask(sub, num_runs,reg, ses=\"ses-01\",task=\"Attn\"):\n",
    "    # This is based off of 'load_data' function in template\n",
    "    # Loads all fMRI runs into a matrix #\n",
    "    \"\"\"\n",
    "    reg = T1 or MNI registration?\n",
    "    norm_type = by Space or by Time? \n",
    "    \"\"\"\n",
    "    yoz = []\n",
    "    print(\"Begin intersecting, you sexy beast\")\n",
    "    for run in range(1, num_runs + 1):\n",
    "        if sub == \"sub-002\":\n",
    "            if run >=7:\n",
    "                run = run+1\n",
    "        # Load epi data \n",
    "        epi = load_epi_data(sub,ses,task,run,reg)\n",
    "        # Mask data\n",
    "        roi_samp = compute_epi_mask(epi) # -- whole brain\n",
    "        #roi_samp load_roi_mask(ROI_name,reg) # -- mask\n",
    "\n",
    "        nifti_masker = NiftiMasker(mask_img=roi_samp)\n",
    "        maskedData = nifti_masker.fit_transform(epi)\n",
    "        yoz.append(roi_samp)\n",
    "    #print(concatenated_data)\n",
    "    epi_data = nil.masking.intersect_masks(yoz)\n",
    "    print(\"all done wit da intersextion (lol)\")\n",
    "\n",
    "    return epi_data\n"
   ]
  },
  {
   "cell_type": "code",
   "execution_count": 16,
   "id": "dramatic-rough",
   "metadata": {
    "scrolled": true
   },
   "outputs": [],
   "source": [
    "#mask = intersect_mask('sub-000',10,'T1')"
   ]
  },
  {
   "cell_type": "code",
   "execution_count": 17,
   "id": "soviet-orchestra",
   "metadata": {},
   "outputs": [],
   "source": [
    "#nib.save(mask, os.path.join(sav_fcma,'mask_10r_sub-001_t1.nii.gz'))"
   ]
  },
  {
   "cell_type": "code",
   "execution_count": 18,
   "id": "accompanied-commitment",
   "metadata": {},
   "outputs": [],
   "source": [
    "def load_fMRI3d(sub, num_runs,reg, norm_type, mask, ses=\"ses-01\",task=\"Attn\"):\n",
    "    # This is based off of 'load_data' function in template\n",
    "    # Loads all fMRI runs into a matrix #\n",
    "    \"\"\"\n",
    "    reg = T1 or MNI registration?\n",
    "    norm_type = by Space or by Time? - default is by space (rows)\n",
    "    \"\"\"\n",
    "    concatenated_data = []\n",
    "    \n",
    "    for run in range(1, num_runs + 1):\n",
    "        if sub == \"sub-002\":\n",
    "            if run >=7:\n",
    "                run = run+1\n",
    "        if sub != \"sub-010\":\n",
    "            # Load epi data \n",
    "            epi = load_epi_data(sub,ses,task,run,reg)\n",
    "        else:\n",
    "            # Load epi data \n",
    "            print(\"sub-10, watch out\")\n",
    "            bad_epi = load_epi_data(sub,ses,task,run,reg)\n",
    "            good_epi = load_epi_data(\"sub-001\",ses,task,run,reg)\n",
    "            epi = resample_to_img(bad_epi , good_epi, interpolation='nearest')\n",
    "        # delete first 9 TRs\n",
    "        epi = index_img(epi,slice(5,209))\n",
    "        \n",
    "        # load confounds\n",
    "        run_conf = np.asarray(pd.read_csv(os.path.join(confounds + sub + \"/func/\", \n",
    "                                                           '%s_ses-01_task-Attn_run-%s_desc-model_timeseries.csv') % (sub, run)))\n",
    "        print(run_conf.shape)\n",
    "        # clean image\n",
    "        # low_pass= .1, high_pass=1/128\n",
    "        \n",
    "        clean_bold = image.clean_img(epi, standardize = False, #confounds = run_conf[5:], \n",
    "                                   t_r=1.5, low_pass= .1, high_pass = 1/128, mask_img = mask)\n",
    "        \n",
    "        \n",
    "        #Smooth\n",
    "        #clean_bold = image.smooth_img(clean_bold, fwhm=5)\n",
    "        \n",
    "        # F*k it mask off -- Load ROI data\n",
    "        #roi_samp =load_roi_mask(ROI_name,reg)\n",
    "        # Pull voxels from epi data # *** may need to change this \n",
    "        #nifti_masker = NiftiMasker(mask_img=roi_samp)\n",
    "        #masked_data = nifti_masker.fit_transform(clean_bold)\n",
    "        \n",
    "        #append to cat_dat\n",
    "        concatenated_data.append(clean_bold)\n",
    "    \"FINISHED YAY BEAST\"\n",
    "    return concatenated_data, epi"
   ]
  },
  {
   "cell_type": "code",
   "execution_count": 19,
   "id": "conscious-integrity",
   "metadata": {},
   "outputs": [],
   "source": [
    "def load_fMRI3d(sub, num_runs,reg, norm_type, mask, ses=\"ses-01\",task=\"Attn\"):\n",
    "    # This is based off of 'load_data' function in template\n",
    "    # Loads all fMRI runs into a matrix #\n",
    "    \"\"\"\n",
    "    reg = T1 or MNI registration?\n",
    "    norm_type = by Space or by Time? - default is by space (rows)\n",
    "    \"\"\"\n",
    "    concatenated_data = []\n",
    "    \n",
    "    for run in range(1, num_runs + 1):\n",
    "        if sub == \"sub-002\":\n",
    "            if run >=7:\n",
    "                run = run+1\n",
    "        if sub != \"sub-010\":\n",
    "            # Load epi data \n",
    "            epi = load_epi_data(sub,ses,task,run,reg)\n",
    "        else:\n",
    "            # Load epi data \n",
    "            print(\"sub-10, watch out\")\n",
    "            bad_epi = load_epi_data(sub,ses,task,run,reg)\n",
    "            good_epi = load_epi_data(\"sub-001\",ses,task,run,reg)\n",
    "            epi = resample_to_img(bad_epi , good_epi, interpolation='nearest')\n",
    "        # delete first 9 TRs\n",
    "        epi = index_img(epi,slice(4,210))\n",
    "        \n",
    "        # load confounds\n",
    "        run_conf = np.asarray(pd.read_csv(os.path.join(confounds + sub + \"/func/\", \n",
    "                                                           '%s_ses-01_task-Attn_run-%s_desc-model_timeseries.csv') % (sub, run)))\n",
    "        print(epi.shape)\n",
    "        # clean image\n",
    "        # low_pass= .1, high_pass=1/128, .01 might be more normal...\n",
    "        \"\"\"\n",
    "        clean_bold = image.clean_img(epi, standardize = False, #confounds = run_conf[5:], \n",
    "                                   t_r=1.5, low_pass= .1, high_pass = 1/128, mask_img = mask)\n",
    "        \n",
    "        # https://cdn.fs.pathlms.com/pOQYPTQ0TiupIUDUQYdV\n",
    "        clean_bold = image.clean_img(epi, standardize = False, #confounds = run_conf[5:], \n",
    "                                   t_r=1.5, low_pass = .1, mask_img = mask)\n",
    "        \"\"\"\n",
    "        \n",
    "        #Smooth\n",
    "        #clean_bold = image.smooth_img(clean_bold, fwhm=5)\n",
    "        \n",
    "        # F*k it mask off -- Load ROI data\n",
    "        #roi_samp =load_roi_mask(ROI_name,reg)\n",
    "        # Pull voxels from epi data # *** may need to change this \n",
    "        #nifti_masker = NiftiMasker(mask_img=roi_samp)\n",
    "        #masked_data = nifti_masker.fit_transform(clean_bold)\n",
    "        \n",
    "        #append to cat_dat\n",
    "        concatenated_data.append(epi)\n",
    "    \"FINISHED YAY BEAST\"\n",
    "    return concatenated_data"
   ]
  },
  {
   "cell_type": "code",
   "execution_count": null,
   "id": "fiscal-baseline",
   "metadata": {},
   "outputs": [],
   "source": []
  },
  {
   "cell_type": "markdown",
   "id": "heavy-stevens",
   "metadata": {},
   "source": [
    "# Define Static VARS"
   ]
  },
  {
   "cell_type": "code",
   "execution_count": 20,
   "id": "understood-intention",
   "metadata": {},
   "outputs": [
    {
     "data": {
      "text/plain": [
       "'\\nTo do:\\n- log regression\\n- optimize hyper parameters\\n- what accuracies hsould i be expecting\\n- only train and test on two\\n- bootstrap\\n- two splits, not four \\n- Try averagin datapoints \\n- motion\\n- test on multiple subjects \\n- subject specific space \\n- implement z score during training\\n'"
      ]
     },
     "execution_count": 20,
     "metadata": {},
     "output_type": "execute_result"
    }
   ],
   "source": [
    "\"\"\"\n",
    "To do:\n",
    "- log regression\n",
    "- optimize hyper parameters\n",
    "- what accuracies hsould i be expecting\n",
    "- only train and test on two\n",
    "- bootstrap\n",
    "- two splits, not four \n",
    "- Try averagin datapoints \n",
    "- motion\n",
    "- test on multiple subjects \n",
    "- subject specific space \n",
    "- implement z score during training\n",
    "\"\"\""
   ]
  },
  {
   "cell_type": "code",
   "execution_count": 22,
   "id": "nuclear-director",
   "metadata": {},
   "outputs": [],
   "source": [
    "####\n",
    "data_dir = \"/jukebox/graziano/coolCatIsaac/ATM/data/bids/derivatives/fmriprep/\"\n",
    "rois_dir = \"/jukebox/graziano/coolCatIsaac/ATM/data/work/rois/\"\n",
    "behav_p = '/jukebox/graziano/coolCatIsaac/ATM/data/behavioral'\n",
    "sav_work = \"/jukebox/graziano/coolCatIsaac/ATM/data/work/results/corr_data/\"\n",
    "confounds = '/jukebox/graziano/coolCatIsaac/ATM/data/bids/derivatives/fmriprep/afni-head_mot/'\n",
    "workspace = \"/jukebox/graziano/coolCatIsaac/ATM/data/work/workspace/\"\n",
    "parc_dir = \"/jukebox/graziano/coolCatIsaac/ATM/data/work/rois/schaef_par/MNI/\"\n",
    "sav_fcma = '/jukebox/graziano/coolCatIsaac/ATM/data/work/workspace/load_fcma'\n",
    "sav_bpress = \"/jukebox/graziano/coolCatIsaac/ATM/data/work/results/bpress_GLM/\"\n"
   ]
  },
  {
   "cell_type": "markdown",
   "id": "coordinate-biodiversity",
   "metadata": {},
   "source": [
    "# lesss do it"
   ]
  },
  {
   "cell_type": "code",
   "execution_count": 23,
   "id": "technical-season",
   "metadata": {},
   "outputs": [],
   "source": [
    "##### GENERAL ####\n",
    "sub_list = [\"sub-000\",\"sub-001\",\"sub-003\",\"sub-004\",\"sub-005\",\"sub-006\",\"sub-007\",\"sub-008\",\"sub-009\",\n",
    "            \"sub-011\",\"sub-012\",\"sub-013\",\"sub-014\"]\n",
    "sub_list = [\"sub-000\",\"sub-001\",\"sub-005\",\"sub-006\",\"sub-007\",\"sub-008\",\"sub-009\",\n",
    "            \"sub-011\",\"sub-012\",\"sub-013\",\"sub-014\"]\n",
    "sub_list = [\"sub-015\", \"sub-016\",\"sub-017\", \"sub-018\", \"sub-019\", \"sub-020\",\"sub-021\", \"sub-021\"]\n",
    "sub_list = [\"sub-000\",\"sub-001\",\"sub-002\",\"sub-003\",\"sub-004\",\"sub-005\",\"sub-006\",\"sub-007\",\"sub-008\",\"sub-009\",\n",
    "            \"sub-010\",\"sub-011\",\"sub-012\",\"sub-013\",\"sub-014\",\"sub-015\", \"sub-016\",\"sub-017\", \n",
    "            \"sub-018\", \"sub-019\", \"sub-020\",\"sub-021\"]\n",
    "sub_list = [\"sub-022\", \"sub-023\", \"sub-024\",\"sub-025\",\"sub-026\", \"sub-027\"]\n",
    "\n",
    "\n",
    "###### LOADING VARS #######\n",
    "# Number of runs to load \n",
    "num_runs = 10\n",
    "# Registration ust be either T1 or MNI\n",
    "reg = \"MNI\"# \"MNI\"\n",
    "# Registration Space # \n",
    "norm_type = \"space\"\n",
    "# SUFFIX - change me\n",
    "suffix = \"205_noproc\""
   ]
  },
  {
   "cell_type": "code",
   "execution_count": null,
   "id": "facial-israel",
   "metadata": {
    "scrolled": false
   },
   "outputs": [
    {
     "name": "stdout",
     "output_type": "stream",
     "text": [
      "POW, right in the kisser! Begin sub-022\n",
      "(78, 93, 65, 209)\n",
      "Loading data from /jukebox/graziano/coolCatIsaac/ATM/data/bids/derivatives/fmriprep/sub-022/ses-01/func/sub-022_ses-01_task-Attn_run-1_space-MNI152NLin2009cAsym_desc-preproc_bold.nii.gz\n",
      "(78, 93, 65, 205)\n",
      "(78, 93, 65, 209)\n",
      "Loading data from /jukebox/graziano/coolCatIsaac/ATM/data/bids/derivatives/fmriprep/sub-022/ses-01/func/sub-022_ses-01_task-Attn_run-2_space-MNI152NLin2009cAsym_desc-preproc_bold.nii.gz\n",
      "(78, 93, 65, 205)\n",
      "(78, 93, 65, 209)\n",
      "Loading data from /jukebox/graziano/coolCatIsaac/ATM/data/bids/derivatives/fmriprep/sub-022/ses-01/func/sub-022_ses-01_task-Attn_run-3_space-MNI152NLin2009cAsym_desc-preproc_bold.nii.gz\n",
      "(78, 93, 65, 205)\n",
      "(78, 93, 65, 209)\n",
      "Loading data from /jukebox/graziano/coolCatIsaac/ATM/data/bids/derivatives/fmriprep/sub-022/ses-01/func/sub-022_ses-01_task-Attn_run-4_space-MNI152NLin2009cAsym_desc-preproc_bold.nii.gz\n",
      "(78, 93, 65, 205)\n",
      "(78, 93, 65, 209)\n",
      "Loading data from /jukebox/graziano/coolCatIsaac/ATM/data/bids/derivatives/fmriprep/sub-022/ses-01/func/sub-022_ses-01_task-Attn_run-5_space-MNI152NLin2009cAsym_desc-preproc_bold.nii.gz\n",
      "(78, 93, 65, 205)\n",
      "(78, 93, 65, 209)\n",
      "Loading data from /jukebox/graziano/coolCatIsaac/ATM/data/bids/derivatives/fmriprep/sub-022/ses-01/func/sub-022_ses-01_task-Attn_run-6_space-MNI152NLin2009cAsym_desc-preproc_bold.nii.gz\n",
      "(78, 93, 65, 205)\n",
      "(78, 93, 65, 209)\n",
      "Loading data from /jukebox/graziano/coolCatIsaac/ATM/data/bids/derivatives/fmriprep/sub-022/ses-01/func/sub-022_ses-01_task-Attn_run-7_space-MNI152NLin2009cAsym_desc-preproc_bold.nii.gz\n",
      "(78, 93, 65, 205)\n",
      "(78, 93, 65, 209)\n",
      "Loading data from /jukebox/graziano/coolCatIsaac/ATM/data/bids/derivatives/fmriprep/sub-022/ses-01/func/sub-022_ses-01_task-Attn_run-8_space-MNI152NLin2009cAsym_desc-preproc_bold.nii.gz\n",
      "(78, 93, 65, 205)\n",
      "(78, 93, 65, 209)\n",
      "Loading data from /jukebox/graziano/coolCatIsaac/ATM/data/bids/derivatives/fmriprep/sub-022/ses-01/func/sub-022_ses-01_task-Attn_run-9_space-MNI152NLin2009cAsym_desc-preproc_bold.nii.gz\n",
      "(78, 93, 65, 205)\n",
      "(78, 93, 65, 209)\n",
      "Loading data from /jukebox/graziano/coolCatIsaac/ATM/data/bids/derivatives/fmriprep/sub-022/ses-01/func/sub-022_ses-01_task-Attn_run-10_space-MNI152NLin2009cAsym_desc-preproc_bold.nii.gz\n",
      "(78, 93, 65, 205)\n",
      "POW, right in the kisser! Begin sub-023\n",
      "(78, 93, 65, 209)\n",
      "Loading data from /jukebox/graziano/coolCatIsaac/ATM/data/bids/derivatives/fmriprep/sub-023/ses-01/func/sub-023_ses-01_task-Attn_run-1_space-MNI152NLin2009cAsym_desc-preproc_bold.nii.gz\n",
      "(78, 93, 65, 205)\n",
      "(78, 93, 65, 209)\n",
      "Loading data from /jukebox/graziano/coolCatIsaac/ATM/data/bids/derivatives/fmriprep/sub-023/ses-01/func/sub-023_ses-01_task-Attn_run-2_space-MNI152NLin2009cAsym_desc-preproc_bold.nii.gz\n",
      "(78, 93, 65, 205)\n",
      "(78, 93, 65, 209)\n",
      "Loading data from /jukebox/graziano/coolCatIsaac/ATM/data/bids/derivatives/fmriprep/sub-023/ses-01/func/sub-023_ses-01_task-Attn_run-3_space-MNI152NLin2009cAsym_desc-preproc_bold.nii.gz\n",
      "(78, 93, 65, 205)\n",
      "(78, 93, 65, 209)\n",
      "Loading data from /jukebox/graziano/coolCatIsaac/ATM/data/bids/derivatives/fmriprep/sub-023/ses-01/func/sub-023_ses-01_task-Attn_run-4_space-MNI152NLin2009cAsym_desc-preproc_bold.nii.gz\n",
      "(78, 93, 65, 205)\n",
      "(78, 93, 65, 209)\n",
      "Loading data from /jukebox/graziano/coolCatIsaac/ATM/data/bids/derivatives/fmriprep/sub-023/ses-01/func/sub-023_ses-01_task-Attn_run-5_space-MNI152NLin2009cAsym_desc-preproc_bold.nii.gz\n",
      "(78, 93, 65, 205)\n",
      "(78, 93, 65, 209)\n",
      "Loading data from /jukebox/graziano/coolCatIsaac/ATM/data/bids/derivatives/fmriprep/sub-023/ses-01/func/sub-023_ses-01_task-Attn_run-6_space-MNI152NLin2009cAsym_desc-preproc_bold.nii.gz\n",
      "(78, 93, 65, 205)\n",
      "(78, 93, 65, 209)\n",
      "Loading data from /jukebox/graziano/coolCatIsaac/ATM/data/bids/derivatives/fmriprep/sub-023/ses-01/func/sub-023_ses-01_task-Attn_run-7_space-MNI152NLin2009cAsym_desc-preproc_bold.nii.gz\n",
      "(78, 93, 65, 205)\n",
      "(78, 93, 65, 209)\n",
      "Loading data from /jukebox/graziano/coolCatIsaac/ATM/data/bids/derivatives/fmriprep/sub-023/ses-01/func/sub-023_ses-01_task-Attn_run-8_space-MNI152NLin2009cAsym_desc-preproc_bold.nii.gz\n",
      "(78, 93, 65, 205)\n",
      "(78, 93, 65, 209)\n",
      "Loading data from /jukebox/graziano/coolCatIsaac/ATM/data/bids/derivatives/fmriprep/sub-023/ses-01/func/sub-023_ses-01_task-Attn_run-9_space-MNI152NLin2009cAsym_desc-preproc_bold.nii.gz\n",
      "(78, 93, 65, 205)\n",
      "(78, 93, 65, 209)\n",
      "Loading data from /jukebox/graziano/coolCatIsaac/ATM/data/bids/derivatives/fmriprep/sub-023/ses-01/func/sub-023_ses-01_task-Attn_run-10_space-MNI152NLin2009cAsym_desc-preproc_bold.nii.gz\n",
      "(78, 93, 65, 205)\n",
      "POW, right in the kisser! Begin sub-024\n",
      "(78, 93, 65, 209)\n",
      "Loading data from /jukebox/graziano/coolCatIsaac/ATM/data/bids/derivatives/fmriprep/sub-024/ses-01/func/sub-024_ses-01_task-Attn_run-1_space-MNI152NLin2009cAsym_desc-preproc_bold.nii.gz\n",
      "(78, 93, 65, 205)\n",
      "(78, 93, 65, 209)\n",
      "Loading data from /jukebox/graziano/coolCatIsaac/ATM/data/bids/derivatives/fmriprep/sub-024/ses-01/func/sub-024_ses-01_task-Attn_run-2_space-MNI152NLin2009cAsym_desc-preproc_bold.nii.gz\n",
      "(78, 93, 65, 205)\n",
      "(78, 93, 65, 209)\n",
      "Loading data from /jukebox/graziano/coolCatIsaac/ATM/data/bids/derivatives/fmriprep/sub-024/ses-01/func/sub-024_ses-01_task-Attn_run-3_space-MNI152NLin2009cAsym_desc-preproc_bold.nii.gz\n",
      "(78, 93, 65, 205)\n",
      "(78, 93, 65, 209)\n",
      "Loading data from /jukebox/graziano/coolCatIsaac/ATM/data/bids/derivatives/fmriprep/sub-024/ses-01/func/sub-024_ses-01_task-Attn_run-4_space-MNI152NLin2009cAsym_desc-preproc_bold.nii.gz\n",
      "(78, 93, 65, 205)\n",
      "(78, 93, 65, 209)\n",
      "Loading data from /jukebox/graziano/coolCatIsaac/ATM/data/bids/derivatives/fmriprep/sub-024/ses-01/func/sub-024_ses-01_task-Attn_run-5_space-MNI152NLin2009cAsym_desc-preproc_bold.nii.gz\n",
      "(78, 93, 65, 205)\n",
      "(78, 93, 65, 209)\n",
      "Loading data from /jukebox/graziano/coolCatIsaac/ATM/data/bids/derivatives/fmriprep/sub-024/ses-01/func/sub-024_ses-01_task-Attn_run-6_space-MNI152NLin2009cAsym_desc-preproc_bold.nii.gz\n",
      "(78, 93, 65, 205)\n",
      "(78, 93, 65, 209)\n",
      "Loading data from /jukebox/graziano/coolCatIsaac/ATM/data/bids/derivatives/fmriprep/sub-024/ses-01/func/sub-024_ses-01_task-Attn_run-7_space-MNI152NLin2009cAsym_desc-preproc_bold.nii.gz\n",
      "(78, 93, 65, 205)\n",
      "(78, 93, 65, 209)\n",
      "Loading data from /jukebox/graziano/coolCatIsaac/ATM/data/bids/derivatives/fmriprep/sub-024/ses-01/func/sub-024_ses-01_task-Attn_run-8_space-MNI152NLin2009cAsym_desc-preproc_bold.nii.gz\n",
      "(78, 93, 65, 205)\n",
      "(78, 93, 65, 209)\n",
      "Loading data from /jukebox/graziano/coolCatIsaac/ATM/data/bids/derivatives/fmriprep/sub-024/ses-01/func/sub-024_ses-01_task-Attn_run-9_space-MNI152NLin2009cAsym_desc-preproc_bold.nii.gz\n",
      "(78, 93, 65, 205)\n",
      "(78, 93, 65, 209)\n",
      "Loading data from /jukebox/graziano/coolCatIsaac/ATM/data/bids/derivatives/fmriprep/sub-024/ses-01/func/sub-024_ses-01_task-Attn_run-10_space-MNI152NLin2009cAsym_desc-preproc_bold.nii.gz\n",
      "(78, 93, 65, 205)\n",
      "POW, right in the kisser! Begin sub-025\n",
      "(78, 93, 65, 209)\n",
      "Loading data from /jukebox/graziano/coolCatIsaac/ATM/data/bids/derivatives/fmriprep/sub-025/ses-01/func/sub-025_ses-01_task-Attn_run-1_space-MNI152NLin2009cAsym_desc-preproc_bold.nii.gz\n",
      "(78, 93, 65, 205)\n",
      "(78, 93, 65, 209)\n",
      "Loading data from /jukebox/graziano/coolCatIsaac/ATM/data/bids/derivatives/fmriprep/sub-025/ses-01/func/sub-025_ses-01_task-Attn_run-2_space-MNI152NLin2009cAsym_desc-preproc_bold.nii.gz\n",
      "(78, 93, 65, 205)\n",
      "(78, 93, 65, 209)\n",
      "Loading data from /jukebox/graziano/coolCatIsaac/ATM/data/bids/derivatives/fmriprep/sub-025/ses-01/func/sub-025_ses-01_task-Attn_run-3_space-MNI152NLin2009cAsym_desc-preproc_bold.nii.gz\n",
      "(78, 93, 65, 205)\n",
      "(78, 93, 65, 209)\n",
      "Loading data from /jukebox/graziano/coolCatIsaac/ATM/data/bids/derivatives/fmriprep/sub-025/ses-01/func/sub-025_ses-01_task-Attn_run-4_space-MNI152NLin2009cAsym_desc-preproc_bold.nii.gz\n",
      "(78, 93, 65, 205)\n",
      "(78, 93, 65, 209)\n",
      "Loading data from /jukebox/graziano/coolCatIsaac/ATM/data/bids/derivatives/fmriprep/sub-025/ses-01/func/sub-025_ses-01_task-Attn_run-5_space-MNI152NLin2009cAsym_desc-preproc_bold.nii.gz\n",
      "(78, 93, 65, 205)\n",
      "(78, 93, 65, 209)\n",
      "Loading data from /jukebox/graziano/coolCatIsaac/ATM/data/bids/derivatives/fmriprep/sub-025/ses-01/func/sub-025_ses-01_task-Attn_run-6_space-MNI152NLin2009cAsym_desc-preproc_bold.nii.gz\n",
      "(78, 93, 65, 205)\n",
      "(78, 93, 65, 209)\n",
      "Loading data from /jukebox/graziano/coolCatIsaac/ATM/data/bids/derivatives/fmriprep/sub-025/ses-01/func/sub-025_ses-01_task-Attn_run-7_space-MNI152NLin2009cAsym_desc-preproc_bold.nii.gz\n"
     ]
    },
    {
     "name": "stdout",
     "output_type": "stream",
     "text": [
      "(78, 93, 65, 205)\n",
      "(78, 93, 65, 209)\n",
      "Loading data from /jukebox/graziano/coolCatIsaac/ATM/data/bids/derivatives/fmriprep/sub-025/ses-01/func/sub-025_ses-01_task-Attn_run-8_space-MNI152NLin2009cAsym_desc-preproc_bold.nii.gz\n",
      "(78, 93, 65, 205)\n",
      "(78, 93, 65, 209)\n",
      "Loading data from /jukebox/graziano/coolCatIsaac/ATM/data/bids/derivatives/fmriprep/sub-025/ses-01/func/sub-025_ses-01_task-Attn_run-9_space-MNI152NLin2009cAsym_desc-preproc_bold.nii.gz\n",
      "(78, 93, 65, 205)\n",
      "(78, 93, 65, 209)\n",
      "Loading data from /jukebox/graziano/coolCatIsaac/ATM/data/bids/derivatives/fmriprep/sub-025/ses-01/func/sub-025_ses-01_task-Attn_run-10_space-MNI152NLin2009cAsym_desc-preproc_bold.nii.gz\n",
      "(78, 93, 65, 205)\n",
      "POW, right in the kisser! Begin sub-026\n",
      "(78, 93, 65, 209)\n",
      "Loading data from /jukebox/graziano/coolCatIsaac/ATM/data/bids/derivatives/fmriprep/sub-026/ses-01/func/sub-026_ses-01_task-Attn_run-1_space-MNI152NLin2009cAsym_desc-preproc_bold.nii.gz\n",
      "(78, 93, 65, 205)\n",
      "(78, 93, 65, 209)\n",
      "Loading data from /jukebox/graziano/coolCatIsaac/ATM/data/bids/derivatives/fmriprep/sub-026/ses-01/func/sub-026_ses-01_task-Attn_run-2_space-MNI152NLin2009cAsym_desc-preproc_bold.nii.gz\n",
      "(78, 93, 65, 205)\n",
      "(78, 93, 65, 209)\n",
      "Loading data from /jukebox/graziano/coolCatIsaac/ATM/data/bids/derivatives/fmriprep/sub-026/ses-01/func/sub-026_ses-01_task-Attn_run-3_space-MNI152NLin2009cAsym_desc-preproc_bold.nii.gz\n",
      "(78, 93, 65, 205)\n",
      "(78, 93, 65, 209)\n",
      "Loading data from /jukebox/graziano/coolCatIsaac/ATM/data/bids/derivatives/fmriprep/sub-026/ses-01/func/sub-026_ses-01_task-Attn_run-4_space-MNI152NLin2009cAsym_desc-preproc_bold.nii.gz\n",
      "(78, 93, 65, 205)\n",
      "(78, 93, 65, 209)\n",
      "Loading data from /jukebox/graziano/coolCatIsaac/ATM/data/bids/derivatives/fmriprep/sub-026/ses-01/func/sub-026_ses-01_task-Attn_run-5_space-MNI152NLin2009cAsym_desc-preproc_bold.nii.gz\n"
     ]
    }
   ],
   "source": [
    "# LOAD group mask\n",
    "mask_file = os.path.join(sav_fcma, 'mask_10r_n22-subs.nii.gz')\n",
    "#mask_file = nib.load('/jukebox/graziano/coolCatIsaac/ATM/data/work/workspace/load_fcma/mask_10r_sub-001_t1.nii.gz')\n",
    "for sub in sub_list:\n",
    "    print(\"POW, right in the kisser! Begin\", sub)\n",
    "    # Load all subject run data\n",
    "    #concat, raw_epi = load_fMRI3d(sub, num_runs, reg, norm_type, mask_file)\n",
    "    concat = load_fMRI3d(sub, num_runs, reg, norm_type, mask_file)\n",
    "    np.save(sav_bpress + sub + \"_\"+ suffix + \".npy\", concat, allow_pickle = True)\n",
    "print(\"phew, finished. go grab a cup of tea\")\n",
    "            "
   ]
  },
  {
   "cell_type": "code",
   "execution_count": 31,
   "id": "exceptional-apollo",
   "metadata": {},
   "outputs": [
    {
     "name": "stdout",
     "output_type": "stream",
     "text": [
      "(78, 93, 65, 209)\n",
      "Loading data from /jukebox/graziano/coolCatIsaac/ATM/data/bids/derivatives/fmriprep/sub-000/ses-01/func/sub-000_ses-01_task-Attn_run-1_space-MNI152NLin2009cAsym_desc-preproc_bold.nii.gz\n"
     ]
    },
    {
     "data": {
      "text/plain": [
       "(<nibabel.nifti1.Nifti1Image at 0x7fee4757e4d0>,)"
      ]
     },
     "execution_count": 31,
     "metadata": {},
     "output_type": "execute_result"
    }
   ],
   "source": [
    "load_epi_data('sub-000',ses=\"ses-01\",task=\"Attn\",run=1, space='MNI'),"
   ]
  },
  {
   "cell_type": "code",
   "execution_count": null,
   "id": "superb-brisbane",
   "metadata": {},
   "outputs": [],
   "source": []
  }
 ],
 "metadata": {
  "kernelspec": {
   "display_name": "Python 3",
   "language": "python",
   "name": "python3"
  },
  "language_info": {
   "codemirror_mode": {
    "name": "ipython",
    "version": 3
   },
   "file_extension": ".py",
   "mimetype": "text/x-python",
   "name": "python",
   "nbconvert_exporter": "python",
   "pygments_lexer": "ipython3",
   "version": "3.7.9"
  }
 },
 "nbformat": 4,
 "nbformat_minor": 5
}
